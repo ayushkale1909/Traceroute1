{
  "nbformat": 4,
  "nbformat_minor": 0,
  "metadata": {
    "colab": {
      "provenance": []
    },
    "kernelspec": {
      "name": "python3",
      "display_name": "Python 3"
    },
    "language_info": {
      "name": "python"
    }
  },
  "cells": [
    {
      "cell_type": "code",
      "source": [
        "from scapy.all import *\n",
        "\n",
        "def traceroute(destination, max_hops):\n",
        "    # Setting the destination and maximum number of hops\n",
        "    dport = 33434  # Destination port for traceroute\n",
        "    ttl = 1\n",
        "\n",
        "    while True:\n",
        "        # ICMP echo request packet with ttl\n",
        "        packet = IP(dst=destination, ttl=ttl) / ICMP()\n",
        "\n",
        "      \n",
        "        reply = sr1(packet, verbose=False, timeout=1)\n",
        "\n",
        "        if reply is None:\n",
        "            # No response received\n",
        "            print(f\"{ttl}. *\")\n",
        "        elif reply.type == 3:\n",
        "            # Destination reached, print IP address \n",
        "            print(f\"{ttl}. {reply.src}\")\n",
        "            break\n",
        "        else:\n",
        "            # Intermediate hop reached, print IP address\n",
        "            print(f\"{ttl}. {reply.src}\")\n",
        "\n",
        "        # Increment TTL\n",
        "        ttl += 1\n",
        "\n",
        "        if ttl > max_hops:\n",
        "            # Maximum number of hops reached\n",
        "            break\n",
        "\n",
        "#example\n",
        "traceroute(\"www.example.com\", 30)\n"
      ],
      "metadata": {
        "colab": {
          "base_uri": "https://localhost:8080/"
        },
        "id": "exQdxx66fnPv",
        "outputId": "06ede50c-b29c-4349-c88e-8f3a443767fe"
      },
      "execution_count": null,
      "outputs": [
        {
          "output_type": "stream",
          "name": "stdout",
          "text": [
            "1. 172.28.0.1\n",
            "2. 66.249.94.186\n",
            "3. 206.81.80.152\n",
            "4. 152.195.92.129\n",
            "5. 93.184.216.34\n",
            "6. 93.184.216.34\n",
            "7. 93.184.216.34\n",
            "8. 93.184.216.34\n",
            "9. 93.184.216.34\n",
            "10. 93.184.216.34\n",
            "11. 93.184.216.34\n",
            "12. 93.184.216.34\n",
            "13. 93.184.216.34\n",
            "14. 93.184.216.34\n",
            "15. 93.184.216.34\n",
            "16. 93.184.216.34\n",
            "17. 93.184.216.34\n",
            "18. 93.184.216.34\n",
            "19. 93.184.216.34\n",
            "20. 93.184.216.34\n",
            "21. 93.184.216.34\n",
            "22. 93.184.216.34\n",
            "23. 93.184.216.34\n",
            "24. 93.184.216.34\n",
            "25. 93.184.216.34\n",
            "26. 93.184.216.34\n",
            "27. 93.184.216.34\n",
            "28. 93.184.216.34\n",
            "29. 93.184.216.34\n",
            "30. 93.184.216.34\n"
          ]
        }
      ]
    }
  ]
}